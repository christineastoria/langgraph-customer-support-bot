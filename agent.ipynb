{
 "cells": [
  {
   "cell_type": "markdown",
   "id": "d9d1a28b-c2a1-4246-b1c2-c58d6938f798",
   "metadata": {},
   "source": [
    "# Customer Support Chatbot\n",
    "\n",
    "Here, we show an example of building a customer support chatbot.\n",
    "This chatbot has two different states: \n",
    "1. Music: the user can inquire about different songs and albums present in the store\n",
    "2. Account: the user can ask questions about their account\n",
    "\n",
    "Under the hood, this is handled by two separate agents. \n",
    "Each has a specific prompt and tools related to their objective. \n",
    "There is also a generic agent who is responsible for routing between these two agents as needed."
   ]
  },
  {
   "cell_type": "code",
   "execution_count": 1,
   "id": "35abc013-2613-4a49-a806-939dcf13ccf3",
   "metadata": {
    "scrolled": true
   },
   "outputs": [
    {
     "name": "stdout",
     "output_type": "stream",
     "text": [
      "\n",
      "\u001b[1m[\u001b[0m\u001b[34;49mnotice\u001b[0m\u001b[1;39;49m]\u001b[0m\u001b[39;49m A new release of pip is available: \u001b[0m\u001b[31;49m25.1.1\u001b[0m\u001b[39;49m -> \u001b[0m\u001b[32;49m25.2\u001b[0m\n",
      "\u001b[1m[\u001b[0m\u001b[34;49mnotice\u001b[0m\u001b[1;39;49m]\u001b[0m\u001b[39;49m To update, run: \u001b[0m\u001b[32;49m/Library/Frameworks/Python.framework/Versions/3.12/bin/python3.12 -m pip install --upgrade pip\u001b[0m\n",
      "Note: you may need to restart the kernel to use updated packages.\n"
     ]
    }
   ],
   "source": [
    "%pip install -U -q langgraph langchain-openai langchain-community scikit-learn langgraph-checkpoint-sqlite python-dotenv"
   ]
  },
  {
   "cell_type": "code",
   "execution_count": 2,
   "id": "58c8fd46-843c-4bd6-a5f7-2a50676d1b53",
   "metadata": {},
   "outputs": [],
   "source": [
    "from dotenv import load_dotenv\n",
    "import os\n",
    "\n",
    "load_dotenv()\n",
    "\n",
    "OPENAI_API_KEY = os.getenv(\"OPENAI_API_KEY\")"
   ]
  },
  {
   "cell_type": "markdown",
   "id": "9431e7f1-07fa-49d9-ac45-29613703dcc1",
   "metadata": {},
   "source": [
    "## Load the data"
   ]
  },
  {
   "cell_type": "markdown",
   "id": "dadfcdd4",
   "metadata": {},
   "source": [
    "Utils to pull the Chinook database, populate an in-memory SQLite database, and create the engine."
   ]
  },
  {
   "cell_type": "code",
   "execution_count": 3,
   "id": "c75a56ed",
   "metadata": {},
   "outputs": [],
   "source": [
    "import sqlite3\n",
    "import requests\n",
    "from langchain_community.utilities.sql_database import SQLDatabase\n",
    "from sqlalchemy import create_engine\n",
    "from sqlalchemy.pool import StaticPool\n",
    "\n",
    "def get_engine_for_chinook_db():\n",
    "    \"\"\"Pull sql file, populate in-memory database, and create engine.\"\"\"\n",
    "    url = \"https://raw.githubusercontent.com/lerocha/chinook-database/master/ChinookDatabase/DataSources/Chinook_Sqlite.sql\"\n",
    "    response = requests.get(url)\n",
    "    sql_script = response.text\n",
    "\n",
    "    connection = sqlite3.connect(\":memory:\", check_same_thread=False)\n",
    "    connection.executescript(sql_script)\n",
    "    return create_engine(\n",
    "        \"sqlite://\",\n",
    "        creator=lambda: connection,\n",
    "        poolclass=StaticPool,\n",
    "        connect_args={\"check_same_thread\": False},\n",
    "    )\n",
    "\n",
    "engine = get_engine_for_chinook_db()\n",
    "db = SQLDatabase(engine)"
   ]
  },
  {
   "cell_type": "code",
   "execution_count": 4,
   "id": "afe9256f",
   "metadata": {},
   "outputs": [
    {
     "name": "stdout",
     "output_type": "stream",
     "text": [
      "['Album', 'Artist', 'Customer', 'Employee', 'Genre', 'Invoice', 'InvoiceLine', 'MediaType', 'Playlist', 'PlaylistTrack', 'Track']\n",
      "<langchain_community.utilities.sql_database.SQLDatabase object at 0x10937deb0>\n"
     ]
    }
   ],
   "source": [
    "print(db.get_usable_table_names())\n",
    "print(db)"
   ]
  },
  {
   "cell_type": "markdown",
   "id": "1cf668e4-8cb4-4de1-bc5e-c90284bf74bc",
   "metadata": {},
   "source": [
    "## Load an LLM\n",
    "\n",
    "We will load a language model to use.\n",
    "For this demo we will use OpenAI."
   ]
  },
  {
   "cell_type": "code",
   "execution_count": 5,
   "id": "d9ea4e80-30e6-4d46-b480-35f0be2fb055",
   "metadata": {},
   "outputs": [],
   "source": [
    "from langchain_openai import ChatOpenAI\n",
    "\n",
    "# We will set streaming=True so that we can stream tokens\n",
    "# See the streaming section for more information on this.\n",
    "model = ChatOpenAI(temperature=0, streaming=True, model=\"gpt-4o\")"
   ]
  },
  {
   "cell_type": "markdown",
   "id": "73907422-7e05-431e-b06d-256c9ec1f6f6",
   "metadata": {},
   "source": [
    "## Load Other Modules\n",
    "\n",
    "Load other modules we will use.\n",
    "\n",
    "All of the tools our agents will use will be custom tools. As such, we will use the `@tool` decorator to create custom tools.\n",
    "\n",
    "We will pass in messages to the agent, so we load `HumanMessage` and `SystemMessage`"
   ]
  },
  {
   "cell_type": "code",
   "execution_count": 6,
   "id": "ea958e9f-ab1f-49b5-bd85-16332055297c",
   "metadata": {},
   "outputs": [],
   "source": [
    "from langchain_core.tools import tool\n",
    "from langchain_core.messages import HumanMessage, SystemMessage"
   ]
  },
  {
   "cell_type": "markdown",
   "id": "35271d4d-2a1c-41be-9359-a3a7c3fed3d9",
   "metadata": {},
   "source": [
    "## Define the Customer Agent\n",
    "\n",
    "This agent is responsible for looking up customer information.\n",
    "It will have a specific prompt as well a specific tool to look up information about that customer (after asking for their user id)."
   ]
  },
  {
   "cell_type": "code",
   "execution_count": 7,
   "id": "975b039a",
   "metadata": {},
   "outputs": [],
   "source": [
    "# This tool is given to the agent to look up information about a customer\n",
    "@tool\n",
    "def get_customer_info(customer_id: int):\n",
    "    \"\"\"Look up customer info given their ID. ALWAYS make sure you have the customer ID before invoking this.\"\"\"\n",
    "    return db.run(f\"SELECT * FROM Customer WHERE CustomerID = {customer_id};\")"
   ]
  },
  {
   "cell_type": "code",
   "execution_count": 8,
   "id": "1d5fa446",
   "metadata": {},
   "outputs": [],
   "source": [
    "customer_prompt = \"\"\"Your job is to help a user update their profile.\n",
    "\n",
    "You only have certain tools you can use. These tools require specific input. If you don't know the required input, then ask the user for it.\n",
    "\n",
    "If you are unable to help the user, you can \"\"\"\n",
    "\n",
    "def get_customer_messages(messages):\n",
    "    return [SystemMessage(content=customer_prompt)] + messages\n",
    "\n",
    "customer_chain = get_customer_messages | model.bind_tools([get_customer_info])"
   ]
  },
  {
   "cell_type": "markdown",
   "id": "904a9485-3857-458e-8b9d-33bc33842bc9",
   "metadata": {},
   "source": [
    "## Define the Music Agent\n",
    "\n",
    "This agent is responsible for figuring out information about music. To do that, we will create a prompt and various tools for looking up information about music\n",
    "\n",
    "First, we will create indexes for looking up artists and track names.\n",
    "This will allow us to look up artists and tracks without having to spell their names exactly right."
   ]
  },
  {
   "cell_type": "markdown",
   "id": "ac7eb264-c572-4925-ad55-a1d52a18b1c0",
   "metadata": {},
   "source": [
    "First, let's create a tool for getting albums by artist."
   ]
  },
  {
   "cell_type": "code",
   "execution_count": 9,
   "id": "0a2a2b74",
   "metadata": {},
   "outputs": [],
   "source": [
    "@tool\n",
    "def get_albums_by_artist(artist: str):\n",
    "    \"\"\"Get albums by an artist.\"\"\"\n",
    "    return db.run(\n",
    "        f\"\"\"\n",
    "        SELECT Album.Title, Artist.Name \n",
    "        FROM Album \n",
    "        JOIN Artist ON Album.ArtistId = Artist.ArtistId \n",
    "        WHERE Artist.Name LIKE '%{artist}%';\n",
    "        \"\"\",\n",
    "        include_columns=True\n",
    "    )"
   ]
  },
  {
   "cell_type": "markdown",
   "id": "45e85066-f2fc-490e-992d-cd66c9cd6486",
   "metadata": {},
   "source": [
    "Next, lets create a tool for getting tracks by an artist"
   ]
  },
  {
   "cell_type": "code",
   "execution_count": 10,
   "id": "da533f50",
   "metadata": {},
   "outputs": [],
   "source": [
    "@tool\n",
    "def get_tracks_by_artist(artist: str):\n",
    "    \"\"\"Get songs by an artist (or similar artists).\"\"\"\n",
    "    return db.run(\n",
    "        f\"\"\"\n",
    "        SELECT Track.Name as SongName, Artist.Name as ArtistName \n",
    "        FROM Album \n",
    "        LEFT JOIN Artist ON Album.ArtistId = Artist.ArtistId \n",
    "        LEFT JOIN Track ON Track.AlbumId = Album.AlbumId \n",
    "        WHERE Artist.Name LIKE '%{artist}%';\n",
    "        \"\"\",\n",
    "        include_columns=True\n",
    "    )"
   ]
  },
  {
   "cell_type": "markdown",
   "id": "bb0e50ab-b059-427c-924b-f8072d8db23c",
   "metadata": {},
   "source": [
    "Finally, let's create a tool for looking up songs by their name."
   ]
  },
  {
   "cell_type": "code",
   "execution_count": 11,
   "id": "b3c07010",
   "metadata": {},
   "outputs": [],
   "source": [
    "@tool\n",
    "def check_for_songs(song_title):\n",
    "    \"\"\"Check if a song exists by its name.\"\"\"\n",
    "    return db.run(\n",
    "        f\"\"\"\n",
    "        SELECT * FROM Track WHERE Name LIKE '%{song_title}%';\n",
    "        \"\"\",\n",
    "        include_columns=True\n",
    "    )"
   ]
  },
  {
   "cell_type": "markdown",
   "id": "88388ff8-38b5-4e4e-a24d-de8c3670bd2b",
   "metadata": {},
   "source": [
    "Create the chain to call the relevant tools"
   ]
  },
  {
   "cell_type": "code",
   "execution_count": 12,
   "id": "72a14d5c",
   "metadata": {},
   "outputs": [],
   "source": [
    "song_system_message = \"\"\"Your job is to help a customer find any songs they are looking for. \n",
    "\n",
    "You only have certain tools you can use. If a customer asks you to look something up that you don't know how, politely tell them what you can help with.\n",
    "\n",
    "When looking up artists and songs, sometimes the artist/song will not be found. In that case, the tools will return information \\\n",
    "on simliar songs and artists. This is intentional, it is not the tool messing up.\"\"\"\n",
    "def get_song_messages(messages):\n",
    "    return [SystemMessage(content=song_system_message)] + messages\n",
    "\n",
    "LANGSMITH_API_KEY = os.getenv(\"LANGSMITH_API_KEY\")\n",
    "song_recc_chain = get_song_messages | model.bind_tools([get_albums_by_artist, get_tracks_by_artist, check_for_songs])"
   ]
  },
  {
   "cell_type": "code",
   "execution_count": 13,
   "id": "cff15eb0-62c7-451d-a5f9-4576b24c879e",
   "metadata": {},
   "outputs": [
    {
     "data": {
      "text/plain": [
       "AIMessage(content='', additional_kwargs={'tool_calls': [{'index': 0, 'id': 'call_Kdz6hSDVN4DeObLAJSl2K1GO', 'function': {'arguments': '{\"artist\":\"Amy Winehouse\"}', 'name': 'get_tracks_by_artist'}, 'type': 'function'}]}, response_metadata={'finish_reason': 'tool_calls', 'model_name': 'gpt-4o-2024-08-06', 'system_fingerprint': 'fp_eb3c3cb84d', 'service_tier': 'default'}, id='run--75ee5a55-2e75-4084-813f-ad2d73a196d0-0', tool_calls=[{'name': 'get_tracks_by_artist', 'args': {'artist': 'Amy Winehouse'}, 'id': 'call_Kdz6hSDVN4DeObLAJSl2K1GO', 'type': 'tool_call'}], usage_metadata={'input_tokens': 206, 'output_tokens': 18, 'total_tokens': 224, 'input_token_details': {'audio': 0, 'cache_read': 0}, 'output_token_details': {'audio': 0, 'reasoning': 0}})"
      ]
     },
     "execution_count": 13,
     "metadata": {},
     "output_type": "execute_result"
    }
   ],
   "source": [
    "msgs = [HumanMessage(content=\"hi! can you help me find songs by amy whinehouse?\")]\n",
    "song_recc_chain.invoke(msgs)"
   ]
  },
  {
   "cell_type": "markdown",
   "id": "0a42c293-0816-4f3c-b4a3-5b9f3a0665d1",
   "metadata": {},
   "source": [
    "## Define the Generic Agent\n",
    "\n",
    "We now define a generic agent that is responsible for handling initial inquiries and routing to the right sub agent."
   ]
  },
  {
   "cell_type": "code",
   "execution_count": 14,
   "id": "73e74268",
   "metadata": {},
   "outputs": [],
   "source": [
    "from langchain_core.messages import SystemMessage, HumanMessage\n",
    "from pydantic import BaseModel, Field\n",
    "\n",
    "class Router(BaseModel):\n",
    "    \"\"\"Call this if you are able to route the user to the appropriate representative.\"\"\"\n",
    "    choice: str = Field(description=\"should be one of: music, customer\")\n",
    "\n",
    "system_message = \"\"\"Your job is to help as a customer service representative for a music store.\n",
    "\n",
    "You should interact politely with customers to try to figure out how you can help. You can help in a few ways:\n",
    "\n",
    "- Updating user information: if a customer wants to update the information in the user database. Call the router with `customer`\n",
    "- Recomending music: if a customer wants to find some music or information about music. Call the router with `music`\n",
    "\n",
    "If the user is asking or wants to ask about updating or accessing their information, send them to that route.\n",
    "If the user is asking or wants to ask about music, send them to that route.\n",
    "Otherwise, respond.\"\"\"\n",
    "def get_messages(messages):\n",
    "    return [SystemMessage(content=system_message)] + messages"
   ]
  },
  {
   "cell_type": "code",
   "execution_count": 15,
   "id": "ddf27314",
   "metadata": {},
   "outputs": [],
   "source": [
    "chain = get_messages | model.bind_tools([Router])"
   ]
  },
  {
   "cell_type": "code",
   "execution_count": 16,
   "id": "3c896f34",
   "metadata": {},
   "outputs": [
    {
     "data": {
      "text/plain": [
       "AIMessage(content='', additional_kwargs={'tool_calls': [{'index': 0, 'id': 'call_z56Rj6lVBAiO8nUo5aJTesTo', 'function': {'arguments': '{\"choice\":\"music\"}', 'name': 'Router'}, 'type': 'function'}]}, response_metadata={'finish_reason': 'tool_calls', 'model_name': 'gpt-4o-2024-08-06', 'system_fingerprint': 'fp_f64f290af2', 'service_tier': 'default'}, id='run--c8ac673c-ffed-4534-9887-8bf2c0bbf8e5-0', tool_calls=[{'name': 'Router', 'args': {'choice': 'music'}, 'id': 'call_z56Rj6lVBAiO8nUo5aJTesTo', 'type': 'tool_call'}], usage_metadata={'input_tokens': 205, 'output_tokens': 13, 'total_tokens': 218, 'input_token_details': {'audio': 0, 'cache_read': 0}, 'output_token_details': {'audio': 0, 'reasoning': 0}})"
      ]
     },
     "execution_count": 16,
     "metadata": {},
     "output_type": "execute_result"
    }
   ],
   "source": [
    "msgs = [HumanMessage(content=\"hi! can you help me find a good song?\")]\n",
    "chain.invoke(msgs)"
   ]
  },
  {
   "cell_type": "code",
   "execution_count": null,
   "id": "40d86f59",
   "metadata": {},
   "outputs": [
    {
     "data": {
      "text/plain": [
       "AIMessage(content='', additional_kwargs={'tool_calls': [{'index': 0, 'id': 'call_6o3Vm4Zgt9chxLVdOWqbNzyd', 'function': {'arguments': '{\"choice\":\"customer\"}', 'name': 'Router'}, 'type': 'function'}]}, response_metadata={'finish_reason': 'tool_calls', 'model_name': 'gpt-4o-2024-08-06', 'system_fingerprint': 'fp_1827dd0c55', 'service_tier': 'default'}, id='run--a0d11496-8502-4491-834d-f3dfe1de0efe-0', tool_calls=[{'name': 'Router', 'args': {'choice': 'customer'}, 'id': 'call_6o3Vm4Zgt9chxLVdOWqbNzyd', 'type': 'tool_call'}], usage_metadata={'input_tokens': 204, 'output_tokens': 13, 'total_tokens': 217, 'input_token_details': {'audio': 0, 'cache_read': 0}, 'output_token_details': {'audio': 0, 'reasoning': 0}})"
      ]
     },
     "execution_count": 19,
     "metadata": {},
     "output_type": "execute_result"
    }
   ],
   "source": [
    "msgs = [HumanMessage(content=\"hi! whats the email you have for me?\")]\n",
    "chain.invoke(msgs)"
   ]
  },
  {
   "cell_type": "code",
   "execution_count": 17,
   "id": "bd6ddd8b-7500-46a7-811d-3bcb937bda51",
   "metadata": {},
   "outputs": [],
   "source": [
    "from langchain_core.messages import AIMessage\n",
    "\n",
    "def add_name(message, name):\n",
    "    _dict = message.model_dump()\n",
    "    _dict[\"name\"] = name\n",
    "    return AIMessage(**_dict)"
   ]
  },
  {
   "cell_type": "code",
   "execution_count": 18,
   "id": "27494de5-8345-4c23-bc0e-81e0dd5d47d8",
   "metadata": {},
   "outputs": [],
   "source": [
    "from langgraph.graph import END\n",
    "import json\n",
    "\n",
    "def _get_last_ai_message(messages):\n",
    "    for m in messages[::-1]:\n",
    "        if isinstance(m, AIMessage):\n",
    "            return m\n",
    "    return None\n",
    "\n",
    "\n",
    "def _is_tool_call(msg):\n",
    "    return hasattr(msg, \"additional_kwargs\") and 'tool_calls' in msg.additional_kwargs\n",
    "\n",
    "\n",
    "def _route(messages):\n",
    "    last_message = messages[-1]\n",
    "    if isinstance(last_message, AIMessage):\n",
    "        if not _is_tool_call(last_message):\n",
    "            return END\n",
    "        else:\n",
    "            if last_message.name == \"general\":\n",
    "                tool_calls = last_message.additional_kwargs['tool_calls']\n",
    "                if len(tool_calls) > 1:\n",
    "                    raise ValueError\n",
    "                tool_call = tool_calls[0]\n",
    "                return json.loads(tool_call['function']['arguments'])['choice']\n",
    "            else:\n",
    "                return \"tools\"\n",
    "    last_m = _get_last_ai_message(messages)\n",
    "    if last_m is None:\n",
    "        return \"general\"\n",
    "    if last_m.name == \"music\":\n",
    "        return \"music\"\n",
    "    elif last_m.name == \"customer\":\n",
    "        return \"customer\"\n",
    "    else:\n",
    "        return \"general\""
   ]
  },
  {
   "cell_type": "code",
   "execution_count": 19,
   "id": "8aec704a-46fe-4fb3-bdee-11c3bbffc370",
   "metadata": {},
   "outputs": [],
   "source": [
    "\n",
    "from langgraph.prebuilt import ToolNode\n",
    "\n",
    "tools = [get_albums_by_artist, get_tracks_by_artist, check_for_songs, get_customer_info]\n",
    "tools_node = ToolNode(tools)"
   ]
  },
  {
   "cell_type": "code",
   "execution_count": 20,
   "id": "4d5b75c6-73e0-4922-a765-a15be63f869e",
   "metadata": {},
   "outputs": [],
   "source": [
    "def _filter_out_routes(messages):\n",
    "    ms = []\n",
    "    for m in messages:\n",
    "        if _is_tool_call(m):\n",
    "            if m.name == \"general\":\n",
    "                continue\n",
    "        ms.append(m)\n",
    "    return ms"
   ]
  },
  {
   "cell_type": "code",
   "execution_count": 21,
   "id": "fd4dbf98-dbb3-411a-bad6-2bb334072aaf",
   "metadata": {},
   "outputs": [],
   "source": [
    "from functools import partial\n",
    "\n",
    "general_node = _filter_out_routes | chain | partial(add_name, name=\"general\")\n",
    "music_node = _filter_out_routes | song_recc_chain | partial(add_name, name=\"music\")\n",
    "customer_node = _filter_out_routes | customer_chain | partial(add_name, name=\"customer\")"
   ]
  },
  {
   "cell_type": "code",
   "execution_count": 30,
   "id": "dcade924",
   "metadata": {},
   "outputs": [
    {
     "name": "stderr",
     "output_type": "stream",
     "text": [
      "/var/folders/pw/f8lrbh512sg6058t9_xnvm9r0000gn/T/ipykernel_14041/1551157014.py:5: LangGraphDeprecatedSinceV10: MessageGraph is deprecated in LangGraph v1.0.0, to be removed in v2.0.0. Please use StateGraph with a `messages` key instead. Deprecated in LangGraph V1.0 to be removed in V2.0.\n",
      "  graph = MessageGraph()\n",
      "/var/folders/pw/f8lrbh512sg6058t9_xnvm9r0000gn/T/ipykernel_14041/1551157014.py:8: LangGraphDeprecatedSinceV10: MessageGraph is deprecated in LangGraph v1.0.0, to be removed in v2.0.0. Please use StateGraph with a `messages` key instead. Deprecated in LangGraph V1.0 to be removed in V2.0.\n",
      "  workflow = MessageGraph()\n"
     ]
    },
    {
     "data": {
      "image/png": "[encoded data removed]",
      "text/plain": [
       "<IPython.core.display.Image object>"
      ]
     },
     "metadata": {},
     "output_type": "display_data"
    }
   ],
   "source": [
    "from langgraph.graph import MessageGraph\n",
    "from langgraph.checkpoint.sqlite import SqliteSaver\n",
    "\n",
    "memory = SqliteSaver.from_conn_string(\":memory:\")\n",
    "graph = MessageGraph()\n",
    "nodes = {\"general\": \"general\", \"music\": \"music\", END: END, \"tools\": \"tools\", \"customer\": \"customer\"}\n",
    "# Define a new graph\n",
    "workflow = MessageGraph()\n",
    "workflow.add_node(\"general\", general_node)\n",
    "workflow.add_node(\"music\", music_node)\n",
    "workflow.add_node(\"customer\", customer_node)\n",
    "workflow.add_node(\"tools\", tools_node)\n",
    "workflow.add_conditional_edges(\"general\", _route, nodes)\n",
    "workflow.add_conditional_edges(\"tools\", _route, nodes)\n",
    "workflow.add_conditional_edges(\"music\", _route, nodes)\n",
    "workflow.add_conditional_edges(\"customer\", _route, nodes)\n",
    "workflow.set_conditional_entry_point(_route, nodes)\n",
    "graph = workflow.compile()\n",
    "\n",
    "from IPython.display import Image, display\n",
    "\n",
    "display(Image(graph.get_graph(xray=True).draw_mermaid_png()))\n"
   ]
  },
  {
   "cell_type": "markdown",
   "id": "f678d4b1",
   "metadata": {},
   "source": [
    "## Test it out"
   ]
  },
  {
   "cell_type": "code",
   "execution_count": null,
   "id": "ac65d6d2",
   "metadata": {},
   "outputs": [
    {
     "name": "stdout",
     "output_type": "stream",
     "text": [
      "User (q/Q to quit):  What do you know about taylor swift? \n"
     ]
    },
    {
     "name": "stdout",
     "output_type": "stream",
     "text": [
      "Output from node 'general':\n",
      "---\n",
      "content='' additional_kwargs={'tool_calls': [{'index': 0, 'id': 'call_PtmNWllKck2m55mmwCfPNn0T', 'function': {'arguments': '{\"choice\":\"music\"}', 'name': 'Router'}, 'type': 'function'}]} response_metadata={'finish_reason': 'tool_calls', 'model_name': 'gpt-4o-2024-08-06', 'system_fingerprint': 'fp_f33640a400', 'service_tier': 'default'} name='general' id='run--fa4d1e16-3ce3-4bc6-b670-2cf190f5dade-0' tool_calls=[{'name': 'Router', 'args': {'choice': 'music'}, 'id': 'call_PtmNWllKck2m55mmwCfPNn0T', 'type': 'tool_call'}] usage_metadata={'input_tokens': 204, 'output_tokens': 13, 'total_tokens': 217, 'input_token_details': {'audio': 0, 'cache_read': 0}, 'output_token_details': {'audio': 0, 'reasoning': 0}}\n",
      "\n",
      "---\n",
      "\n",
      "Output from node 'music':\n",
      "---\n",
      "content=\"I can help you find information about Taylor Swift's albums and songs. If you're interested in her discography or specific tracks, feel free to ask!\" additional_kwargs={} response_metadata={'finish_reason': 'stop', 'model_name': 'gpt-4o-2024-08-06', 'system_fingerprint': 'fp_f33640a400', 'service_tier': 'default'} name='music' id='run--471f2563-6b43-4b21-88e2-60760e63776d-0' usage_metadata={'input_tokens': 202, 'output_tokens': 31, 'total_tokens': 233, 'input_token_details': {'audio': 0, 'cache_read': 0}, 'output_token_details': {'audio': 0, 'reasoning': 0}}\n",
      "\n",
      "---\n",
      "\n"
     ]
    },
    {
     "name": "stdout",
     "output_type": "stream",
     "text": [
      "User (q/Q to quit):  Give me information about her albums\n"
     ]
    },
    {
     "name": "stdout",
     "output_type": "stream",
     "text": [
      "Output from node 'general':\n",
      "---\n",
      "content='' additional_kwargs={'tool_calls': [{'index': 0, 'id': 'call_QqbtvKRAQM0dvNfnKIJbiO3b', 'function': {'arguments': '{\"choice\":\"music\"}', 'name': 'Router'}, 'type': 'function'}]} response_metadata={'finish_reason': 'tool_calls', 'model_name': 'gpt-4o-2024-08-06', 'system_fingerprint': 'fp_f33640a400', 'service_tier': 'default'} name='general' id='run--65d4e1d4-345c-4d92-8699-50bac6d41279-0' tool_calls=[{'name': 'Router', 'args': {'choice': 'music'}, 'id': 'call_QqbtvKRAQM0dvNfnKIJbiO3b', 'type': 'tool_call'}] usage_metadata={'input_tokens': 248, 'output_tokens': 13, 'total_tokens': 261, 'input_token_details': {'audio': 0, 'cache_read': 0}, 'output_token_details': {'audio': 0, 'reasoning': 0}}\n",
      "\n",
      "---\n",
      "\n",
      "Output from node 'music':\n",
      "---\n",
      "content='' additional_kwargs={'tool_calls': [{'index': 0, 'id': 'call_fAy10duXNFXdWTNRVUJJOCwj', 'function': {'arguments': '{\"artist\":\"Taylor Swift\"}', 'name': 'get_albums_by_artist'}, 'type': 'function'}]} response_metadata={'finish_reason': 'tool_calls', 'model_name': 'gpt-4o-2024-08-06', 'system_fingerprint': 'fp_f33640a400', 'service_tier': 'default'} name='music' id='run--de2255ff-1ba9-4888-bd65-3e551fa14970-0' tool_calls=[{'name': 'get_albums_by_artist', 'args': {'artist': 'Taylor Swift'}, 'id': 'call_fAy10duXNFXdWTNRVUJJOCwj', 'type': 'tool_call'}] usage_metadata={'input_tokens': 246, 'output_tokens': 18, 'total_tokens': 264, 'input_token_details': {'audio': 0, 'cache_read': 0}, 'output_token_details': {'audio': 0, 'reasoning': 0}}\n",
      "\n",
      "---\n",
      "\n",
      "Output from node 'tools':\n",
      "---\n",
      "[ToolMessage(content='', name='get_albums_by_artist', id='dbab21b4-c6fc-4268-9acd-f94e296b7776', tool_call_id='call_fAy10duXNFXdWTNRVUJJOCwj')]\n",
      "\n",
      "---\n",
      "\n",
      "Output from node 'music':\n",
      "---\n",
      "content=\"I couldn't find specific information about Taylor Swift's albums. However, I can help you find songs by her or similar artists. Let me know if you'd like to explore that!\" additional_kwargs={} response_metadata={'finish_reason': 'stop', 'model_name': 'gpt-4o-2024-08-06', 'system_fingerprint': 'fp_f33640a400', 'service_tier': 'default'} name='music' id='run--11ce51d7-da1e-48ed-8388-0425b7eedc3a-0' usage_metadata={'input_tokens': 277, 'output_tokens': 36, 'total_tokens': 313, 'input_token_details': {'audio': 0, 'cache_read': 0}, 'output_token_details': {'audio': 0, 'reasoning': 0}}\n",
      "\n",
      "---\n",
      "\n"
     ]
    },
    {
     "name": "stdout",
     "output_type": "stream",
     "text": [
      "User (q/Q to quit):  show me similar artists\n"
     ]
    },
    {
     "name": "stdout",
     "output_type": "stream",
     "text": [
      "Output from node 'general':\n",
      "---\n",
      "content='' additional_kwargs={'tool_calls': [{'index': 0, 'id': 'call_3SFkLBiciKoXHU9CWoKWX1dY', 'function': {'arguments': '{\"choice\":\"music\"}', 'name': 'Router'}, 'type': 'function'}]} response_metadata={'finish_reason': 'tool_calls', 'model_name': 'gpt-4o-2024-08-06', 'system_fingerprint': 'fp_f33640a400', 'service_tier': 'default'} name='general' id='run--9ea4410f-fc82-49b1-8c2b-420f11751703-0' tool_calls=[{'name': 'Router', 'args': {'choice': 'music'}, 'id': 'call_3SFkLBiciKoXHU9CWoKWX1dY', 'type': 'tool_call'}] usage_metadata={'input_tokens': 295, 'output_tokens': 13, 'total_tokens': 308, 'input_token_details': {'audio': 0, 'cache_read': 0}, 'output_token_details': {'audio': 0, 'reasoning': 0}}\n",
      "\n",
      "---\n",
      "\n",
      "Output from node 'music':\n",
      "---\n",
      "content='' additional_kwargs={'tool_calls': [{'index': 0, 'id': 'call_gMdT6vZaCCgIdqcz2jxCWNJG', 'function': {'arguments': '{\"artist\":\"Taylor Swift\"}', 'name': 'get_tracks_by_artist'}, 'type': 'function'}]} response_metadata={'finish_reason': 'tool_calls', 'model_name': 'gpt-4o-2024-08-06', 'system_fingerprint': 'fp_f33640a400', 'service_tier': 'default'} name='music' id='run--3dfb3810-65be-4351-8659-c20c31ae4c56-0' tool_calls=[{'name': 'get_tracks_by_artist', 'args': {'artist': 'Taylor Swift'}, 'id': 'call_gMdT6vZaCCgIdqcz2jxCWNJG', 'type': 'tool_call'}] usage_metadata={'input_tokens': 293, 'output_tokens': 17, 'total_tokens': 310, 'input_token_details': {'audio': 0, 'cache_read': 0}, 'output_token_details': {'audio': 0, 'reasoning': 0}}\n",
      "\n",
      "---\n",
      "\n",
      "Output from node 'tools':\n",
      "---\n",
      "[ToolMessage(content='', name='get_tracks_by_artist', id='c4da8c23-168d-43d2-afba-ddbfbe5d1a57', tool_call_id='call_gMdT6vZaCCgIdqcz2jxCWNJG')]\n",
      "\n",
      "---\n",
      "\n",
      "Output from node 'music':\n",
      "---\n",
      "content=\"I couldn't find specific information about similar artists to Taylor Swift. However, if you have any other questions or need assistance with something else, feel free to ask!\" additional_kwargs={} response_metadata={'finish_reason': 'stop', 'model_name': 'gpt-4o-2024-08-06', 'system_fingerprint': 'fp_f33640a400', 'service_tier': 'default'} name='music' id='run--099ecb1b-5cf4-4fd1-8897-0d5b1bd4baa7-0' usage_metadata={'input_tokens': 322, 'output_tokens': 33, 'total_tokens': 355, 'input_token_details': {'audio': 0, 'cache_read': 0}, 'output_token_details': {'audio': 0, 'reasoning': 0}}\n",
      "\n",
      "---\n",
      "\n"
     ]
    },
    {
     "name": "stdout",
     "output_type": "stream",
     "text": [
      "User (q/Q to quit):  q\n"
     ]
    }
   ],
   "source": [
    "from langchain_core.messages import HumanMessage\n",
    "from langgraph.graph import StateGraph, START, END\n",
    "\n",
    "history = []\n",
    "while True:\n",
    "    user = input('User (q/Q to quit): ')\n",
    "    if user in {'q', 'Q'}:\n",
    "        break\n",
    "    history.append(HumanMessage(content=user))\n",
    "    async for output in graph.astream(history):\n",
    "        if END in output or START in output:\n",
    "            continue\n",
    "        # stream() yields dictionaries with output keyed by node name\n",
    "        for key, value in output.items():\n",
    "            print(f\"Output from node '{key}':\")\n",
    "            print(\"---\")\n",
    "            print(value)\n",
    "        print(\"\\n---\\n\")\n",
    "    history.append(AIMessage(content=value.content))"
   ]
  },
  {
   "cell_type": "code",
   "execution_count": null,
   "id": "0adf25d4",
   "metadata": {},
   "outputs": [],
   "source": []
  }
 ],
 "metadata": {
  "kernelspec": {
   "display_name": "Python 3 (ipykernel)",
   "language": "python",
   "name": "python3"
  },
  "language_info": {
   "codemirror_mode": {
    "name": "ipython",
    "version": 3
   },
   "file_extension": ".py",
   "mimetype": "text/x-python",
   "name": "python",
   "nbconvert_exporter": "python",
   "pygments_lexer": "ipython3",
   "version": "3.12.3"
  }
 },
 "nbformat": 4,
 "nbformat_minor": 5
}
